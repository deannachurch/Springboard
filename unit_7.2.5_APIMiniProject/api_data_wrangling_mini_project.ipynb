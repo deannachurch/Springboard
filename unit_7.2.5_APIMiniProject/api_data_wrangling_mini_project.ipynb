{
 "cells": [
  {
   "cell_type": "markdown",
   "metadata": {},
   "source": [
    "This exercise will require you to pull some data from https://data.nasdaq.com/ (formerly Quandl API)."
   ]
  },
  {
   "cell_type": "markdown",
   "metadata": {},
   "source": [
    "As a first step, you will need to register a free account on the https://data.nasdaq.com/ website."
   ]
  },
  {
   "cell_type": "markdown",
   "metadata": {},
   "source": [
    "After you register, you will be provided with a unique API key, that you should store:\n",
    "\n",
    "*Note*: Use a `.env` file and put your key in there and `python-dotenv` to access it in this notebook. \n",
    "\n",
    "The code below uses a key that was used when generating this project but has since been deleted. Never submit your keys to source control. There is a `.env-example` file in this repository to illusrtate what you need. Copy that to a file called `.env` and use your own api key in that `.env` file. Make sure you also have a `.gitignore` file with a line for `.env` added to it. \n",
    "\n",
    "The standard Python gitignore is [here](https://github.com/github/gitignore/blob/master/Python.gitignore) you can just copy that. "
   ]
  },
  {
   "cell_type": "code",
   "execution_count": 1,
   "metadata": {},
   "outputs": [],
   "source": [
    "# get api key from your .env file\n",
    "import os\n",
    "from dotenv import load_dotenv\n",
    "\n",
    "load_dotenv()\n",
    "API_KEY = os.getenv('NASDAQ_API_KEY')\n",
    "\n",
    "#Note- I'm commenting this out for checking into git and pushing to github. Printing my API key here is just as bad as pushing my .env file!\n",
    "#print(API_KEY)"
   ]
  },
  {
   "cell_type": "markdown",
   "metadata": {},
   "source": [
    "Nasdaq Data has a large number of data sources, but, unfortunately, most of them require a Premium subscription. Still, there are also a good number of free datasets."
   ]
  },
  {
   "cell_type": "markdown",
   "metadata": {},
   "source": [
    "For this mini project, we will focus on equities data from the Frankfurt Stock Exhange (FSE), which is available for free. We'll try and analyze the stock prices of a company called Carl Zeiss Meditec, which manufactures tools for eye examinations, as well as medical lasers for laser eye surgery: https://www.zeiss.com/meditec/int/home.html. The company is listed under the stock ticker AFX_X."
   ]
  },
  {
   "cell_type": "markdown",
   "metadata": {},
   "source": [
    "You can find the detailed Nasdaq Data API instructions here: https://docs.data.nasdaq.com/docs/in-depth-usage"
   ]
  },
  {
   "cell_type": "markdown",
   "metadata": {},
   "source": [
    "While there is a dedicated Python package for connecting to the Nasdaq API, we would prefer that you use the *requests* package, which can be easily downloaded using *pip* or *conda*. You can find the documentation for the package here: http://docs.python-requests.org/en/master/ "
   ]
  },
  {
   "cell_type": "markdown",
   "metadata": {},
   "source": [
    "Finally, apart from the *requests* package, you are encouraged to not use any third party Python packages, such as *pandas*, and instead focus on what's available in the Python Standard Library (the *collections* module might come in handy: https://pymotw.com/3/collections/).\n",
    "Also, since you won't have access to DataFrames, you are encouraged to us Python's native data structures - preferably dictionaries, though some questions can also be answered using lists.\n",
    "You can read more on these data structures here: https://docs.python.org/3/tutorial/datastructures.html"
   ]
  },
  {
   "cell_type": "markdown",
   "metadata": {},
   "source": [
    "Keep in mind that the JSON responses you will be getting from the API map almost one-to-one to Python's dictionaries. Unfortunately, they can be very nested, so make sure you read up on indexing dictionaries in the documentation provided above."
   ]
  },
  {
   "cell_type": "code",
   "execution_count": 2,
   "metadata": {},
   "outputs": [],
   "source": [
    "# First, import the relevant modules\n",
    "import requests\n",
    "import json\n",
    "import csv"
   ]
  },
  {
   "cell_type": "markdown",
   "metadata": {},
   "source": [
    "Note: API's can change a bit with each version, for this exercise it is reccomended to use the nasdaq api at `https://data.nasdaq.com/api/v3/`. This is the same api as what used to be quandl so `https://www.quandl.com/api/v3/` should work too.\n",
    "\n",
    "Hint: We are looking for the `AFX_X` data on the `datasets/FSE/` dataset."
   ]
  },
  {
   "cell_type": "code",
   "execution_count": 3,
   "metadata": {},
   "outputs": [
    {
     "name": "stdout",
     "output_type": "stream",
     "text": [
      "Data successfully retrieved\n"
     ]
    }
   ],
   "source": [
    "# Now, call the Nasdaq API and pull out a small sample of the data (only one day) to get a glimpse\n",
    "# into the JSON structure that will be returned\n",
    "start_date=\"2017-05-24\"\n",
    "end_date=\"2017-05-24\"\n",
    "url=url=f\"https://data.nasdaq.com/api/v3/datasets/FSE/AFX_X/data.json?start_date={start_date}&end_date={end_date}&api_key={API_KEY}\"\n",
    "try:\n",
    "    test_response = requests.get(url, timeout=5)\n",
    "    test_response.raise_for_status()  # Raises an HTTPError for bad responses (4XX or 5XX)\n",
    "    test_data = test_response.json()\n",
    "except requests.HTTPError as http_err:\n",
    "    print(f'HTTP error occurred: {http_err}')  # Specific HTTP error handling\n",
    "except requests.Timeout as timeout_err:\n",
    "    print(f'Timeout error occurred: {timeout_err}')  # Specific timeout handling\n",
    "except requests.ConnectionError as conn_err:\n",
    "    print(f'Connection error occurred: {conn_err}')  # Specific connection error handling\n",
    "except requests.RequestException as req_err:\n",
    "    print(f'Error during request to {url}: {req_err}')  # Catch-all for any Request issues\n",
    "except Exception as e:\n",
    "    print(f'An error occurred: {e}')  # Optional: catch-all for any other errors\n",
    "print(\"Data successfully retrieved\")"
   ]
  },
  {
   "cell_type": "code",
   "execution_count": 4,
   "metadata": {},
   "outputs": [
    {
     "name": "stdout",
     "output_type": "stream",
     "text": [
      "{\n",
      "    \"dataset_data\": {\n",
      "        \"limit\": null,\n",
      "        \"transform\": null,\n",
      "        \"column_index\": null,\n",
      "        \"column_names\": [\n",
      "            \"Date\",\n",
      "            \"Open\",\n",
      "            \"High\",\n",
      "            \"Low\",\n",
      "            \"Close\",\n",
      "            \"Change\",\n",
      "            \"Traded Volume\",\n",
      "            \"Turnover\",\n",
      "            \"Last Price of the Day\",\n",
      "            \"Daily Traded Units\",\n",
      "            \"Daily Turnover\"\n",
      "        ],\n",
      "        \"start_date\": \"2017-05-24\",\n",
      "        \"end_date\": \"2017-05-24\",\n",
      "        \"frequency\": \"daily\",\n",
      "        \"data\": [\n",
      "            [\n",
      "                \"2017-05-24\",\n",
      "                43.92,\n",
      "                44.67,\n",
      "                43.92,\n",
      "                44.53,\n",
      "                null,\n",
      "                111923.0,\n",
      "                4971343.0,\n",
      "                null,\n",
      "                null,\n",
      "                null\n",
      "            ]\n",
      "        ],\n",
      "        \"collapse\": null,\n",
      "        \"order\": null\n",
      "    }\n",
      "}\n"
     ]
    }
   ],
   "source": [
    "# Inspect the JSON structure of the object you created, and take note of how nested it is,\n",
    "# as well as the overall structure\n",
    "print(json.dumps(test_data, indent=4))"
   ]
  },
  {
   "cell_type": "markdown",
   "metadata": {},
   "source": [
    "Notes about above data structure.\n",
    "Everything is nested in 'dataset_data'\n",
    "The 'columns_names' key is useful as this tells me that the values are in the list.\n",
    "The 'data' key has a list, for each day of the data (in the order of the 'column names')\n",
    "These are the two things I'll need. "
   ]
  },
  {
   "cell_type": "markdown",
   "metadata": {},
   "source": [
    "These are your tasks for this mini project:\n",
    "\n",
    "1. Collect data from the Franfurt Stock Exchange, for the ticker AFX_X, for the whole year 2017 (keep in mind that the date format is YYYY-MM-DD).\n",
    "2. Convert the returned JSON object into a Python dictionary.\n",
    "3. Calculate what the highest and lowest opening prices were for the stock in this period.\n",
    "4. What was the largest change in any one day (based on High and Low price)?\n",
    "5. What was the largest change between any two days (based on Closing Price)?\n",
    "6. What was the average daily trading volume during this year?\n",
    "7. (Optional) What was the median trading volume during this year. (Note: you may need to implement your own function for calculating the median.)"
   ]
  },
  {
   "cell_type": "code",
   "execution_count": 5,
   "metadata": {},
   "outputs": [
    {
     "name": "stdout",
     "output_type": "stream",
     "text": [
      "Data successfully retrieved\n"
     ]
    }
   ],
   "source": [
    "# Collect data from the Franfurt Stock Exchange, for the ticker AFX_X, for the whole year 2017 (keep in mind that the date format is YYYY-MM-DD).\n",
    "# Convert the returned JSON object into a Python dictionary.\n",
    "start_date=\"2017-01-01\"\n",
    "end_date=\"2017-12-31\"\n",
    "url=url=f\"https://data.nasdaq.com/api/v3/datasets/FSE/AFX_X/data.json?start_date={start_date}&end_date={end_date}&api_key={API_KEY}\"\n",
    "try:\n",
    "    response = requests.get(url, timeout=5)\n",
    "    response.raise_for_status()  # Raises an HTTPError for bad responses (4XX or 5XX)\n",
    "    AFX_X_data = response.json()\n",
    "except requests.HTTPError as http_err:\n",
    "    print(f'HTTP error occurred: {http_err}')  # Specific HTTP error handling\n",
    "except requests.Timeout as timeout_err:\n",
    "    print(f'Timeout error occurred: {timeout_err}')  # Specific timeout handling\n",
    "except requests.ConnectionError as conn_err:\n",
    "    print(f'Connection error occurred: {conn_err}')  # Specific connection error handling\n",
    "except requests.RequestException as req_err:\n",
    "    print(f'Error during request to {url}: {req_err}')  # Catch-all for any Request issues\n",
    "except Exception as e:\n",
    "    print(f'An error occurred: {e}')  # Optional: catch-all for any other errors\n",
    "print(\"Data successfully retrieved\")"
   ]
  },
  {
   "cell_type": "code",
   "execution_count": 6,
   "metadata": {},
   "outputs": [
    {
     "name": "stdout",
     "output_type": "stream",
     "text": [
      "Date Range: 2017-01-01 - 2017-12-31\n"
     ]
    }
   ],
   "source": [
    "#Confirm dates\n",
    "print(f\"Date Range: {AFX_X_data['dataset_data']['start_date']} - {AFX_X_data['dataset_data']['end_date']}\")"
   ]
  },
  {
   "cell_type": "code",
   "execution_count": 7,
   "metadata": {},
   "outputs": [
    {
     "name": "stdout",
     "output_type": "stream",
     "text": [
      "Number of days: 255\n"
     ]
    }
   ],
   "source": [
    "#explore data a bit\n",
    "data=AFX_X_data['dataset_data']['data']\n",
    "#sort sublists so they are in chronological order\n",
    "data.reverse()\n",
    "print(f\"Number of days: {len(data)}\")"
   ]
  },
  {
   "cell_type": "code",
   "execution_count": 8,
   "metadata": {},
   "outputs": [
    {
     "name": "stdout",
     "output_type": "stream",
     "text": [
      "[['2017-01-02', 34.99, 35.94, 34.99, 35.8, None, 44700.0, 1590561.0, None, None, None], ['2017-01-03', 35.9, 35.93, 35.34, 35.48, None, 70618.0, 2515473.0, None, None, None], ['2017-01-04', 35.48, 35.51, 34.75, 35.19, None, 54408.0, 1906810.0, None, None, None], ['2017-01-05', 35.02, 35.2, 34.73, 35.06, None, 48412.0, 1692326.0, None, None, None], ['2017-01-06', 34.91, 35.21, 34.91, 35.04, None, 27507.0, 964046.0, None, None, None], ['2017-01-09', 35.29, 35.35, 34.43, 34.67, None, 62225.0, 2157182.0, None, None, None], ['2017-01-10', 34.8, 34.98, 34.46, 34.91, None, 43976.0, 1528055.0, None, None, None], ['2017-01-11', 34.95, 36.0, 34.84, 35.42, None, 123530.0, 4369079.0, None, None, None], ['2017-01-12', 35.38, 35.38, 34.31, 34.9, None, 163860.0, 5703427.0, None, None, None], ['2017-01-13', 34.98, 34.98, 34.6, 34.85, None, 59367.0, 2065534.0, None, None, None]]\n"
     ]
    }
   ],
   "source": [
    "print(data[:10])"
   ]
  },
  {
   "cell_type": "code",
   "execution_count": 9,
   "metadata": {},
   "outputs": [
    {
     "name": "stdout",
     "output_type": "stream",
     "text": [
      "['Date', 'Open', 'High', 'Low', 'Close', 'Change', 'Traded Volume', 'Turnover', 'Last Price of the Day', 'Daily Traded Units', 'Daily Turnover']\n"
     ]
    }
   ],
   "source": [
    "#Get a list of the columns names to make tracking easier\n",
    "col_names=AFX_X_data['dataset_data']['column_names']\n",
    "print(col_names)"
   ]
  },
  {
   "cell_type": "code",
   "execution_count": 10,
   "metadata": {},
   "outputs": [],
   "source": [
    "#dump as a csv to save this dataset\n",
    "test_dump = 'artefacts/AFX_X_2017.csv'\n",
    "with open(test_dump, 'w', newline='') as file:\n",
    "    writer = csv.writer(file)\n",
    "    writer.writerow(col_names)\n",
    "    writer.writerows(data)"
   ]
  },
  {
   "cell_type": "code",
   "execution_count": 11,
   "metadata": {},
   "outputs": [
    {
     "name": "stdout",
     "output_type": "stream",
     "text": [
      "Highest opening price: 53.11\n",
      "Lowest opening price: 34.0\n"
     ]
    }
   ],
   "source": [
    "#Calculate what the highest and lowest opening prices were for the stock in this period.\n",
    "#open is the second item in the list (index = 1)\n",
    "# Extract opening prices and filter out None values\n",
    "opening_prices = [sublist[1] for sublist in data if sublist[1] is not None]\n",
    "\n",
    "# Find the highest and lowest opening prices\n",
    "highest_opening = max(opening_prices)\n",
    "lowest_opening = min(opening_prices)\n",
    "\n",
    "print(f'Highest opening price: {highest_opening}')\n",
    "print(f'Lowest opening price: {lowest_opening}')"
   ]
  },
  {
   "cell_type": "code",
   "execution_count": 12,
   "metadata": {},
   "outputs": [
    {
     "name": "stdout",
     "output_type": "stream",
     "text": [
      "The largest change in one day is 2.81\n"
     ]
    }
   ],
   "source": [
    "#What was the largest change in any one day (based on High and Low price)?\n",
    "#High is index 2, Low is index 3\n",
    "new_list = [row[2] - row[3] for row in data]\n",
    "largest_change=max(new_list)\n",
    "print(f'The largest change in one day is {largest_change:.2f}')"
   ]
  },
  {
   "cell_type": "code",
   "execution_count": 13,
   "metadata": {},
   "outputs": [
    {
     "name": "stdout",
     "output_type": "stream",
     "text": [
      "The largest change between any two days is 2.56\n"
     ]
    }
   ],
   "source": [
    "#What was the largest change between any two days (based on Closing Price)?\n",
    "#close = index 4\n",
    "# Extract closing prices\n",
    "closing_prices = [sublist[4] for sublist in data]\n",
    "\n",
    "# Calculate changes between consecutive days\n",
    "changes = [abs(j - i) for i, j in zip(closing_prices[:-1], closing_prices[1:])]\n",
    "\n",
    "# Find the largest change\n",
    "largest_change = max(changes)\n",
    "\n",
    "print(f'The largest change between any two days is {largest_change:.2f}')"
   ]
  },
  {
   "cell_type": "code",
   "execution_count": 14,
   "metadata": {},
   "outputs": [
    {
     "name": "stdout",
     "output_type": "stream",
     "text": [
      "The average daily trading volume is 89124.34\n"
     ]
    }
   ],
   "source": [
    "#What was the average daily trading volume during this year?\n",
    "#volume is index 6\n",
    "trading_vol = [sublist[6] for sublist in data]\n",
    "average_trading_vol = sum(trading_vol) / len(trading_vol)\n",
    "print(f\"The average daily trading volume is {average_trading_vol:.2f}\")\n"
   ]
  },
  {
   "cell_type": "code",
   "execution_count": 15,
   "metadata": {},
   "outputs": [
    {
     "name": "stdout",
     "output_type": "stream",
     "text": [
      "The median trading volume is 76286.00\n"
     ]
    }
   ],
   "source": [
    "7. #(Optional) What was the median trading volume during this year. (Note: you may need to implement your own function for calculating the median.)\n",
    "trading_vol.sort()\n",
    "length = len(trading_vol)\n",
    "middle = length // 2\n",
    "\n",
    "if length % 2 == 0:\n",
    "    median_trading_vol = (trading_vol[middle - 1] + trading_vol[middle]) / 2\n",
    "else:\n",
    "    median_trading_vol = trading_vol[middle]\n",
    "\n",
    "print(f\"The median trading volume is {median_trading_vol:.2f}\")"
   ]
  }
 ],
 "metadata": {
  "interpreter": {
   "hash": "7635eb1b9d0fe97add78a7368b6b431c09bb8ad5c42e437d64abdd99821c31ae"
  },
  "kernelspec": {
   "display_name": "Python 3.8.1 64-bit ('dsc_v5_solutions-7Q1D_Dt-': venv)",
   "name": "python3"
  },
  "language_info": {
   "codemirror_mode": {
    "name": "ipython",
    "version": 3
   },
   "file_extension": ".py",
   "mimetype": "text/x-python",
   "name": "python",
   "nbconvert_exporter": "python",
   "pygments_lexer": "ipython3",
   "version": "3.12.3"
  }
 },
 "nbformat": 4,
 "nbformat_minor": 4
}
